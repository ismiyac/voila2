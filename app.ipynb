{
 "cells": [
  {
   "cell_type": "code",
   "execution_count": 1,
   "metadata": {},
   "outputs": [],
   "source": [
    "import pandas as pd\n",
    "import altair as alt\n",
    "import numpy as np\n",
    "import pycountry_convert as pc\n",
    "import ipywidgets as widgets"
   ]
  },
  {
   "cell_type": "code",
   "execution_count": 2,
   "metadata": {},
   "outputs": [],
   "source": [
    "url = 'https://covid.ourworldindata.org/data/ecdc/full_data.csv'\n",
    "df= pd.read_csv(url,parse_dates=['date'],index_col=['date'])"
   ]
  },
  {
   "cell_type": "code",
   "execution_count": 3,
   "metadata": {},
   "outputs": [
    {
     "name": "stdout",
     "output_type": "stream",
     "text": [
      "dernière mise à jour des données 2020-09-02 00:00:00\n"
     ]
    }
   ],
   "source": [
    "df=df.reset_index()\n",
    "alt.data_transformers.disable_max_rows()\n",
    "print(\"dernière mise à jour des données {}\".format(df.iloc[-1][\"date\"]))"
   ]
  },
  {
   "cell_type": "code",
   "execution_count": 4,
   "metadata": {},
   "outputs": [],
   "source": [
    "\n",
    "\n",
    "def country_to_continent(country):\n",
    "    try :\n",
    "        country_code = pc.country_name_to_country_alpha2(country, cn_name_format=\"default\")\n",
    "        continent_code = pc.country_alpha2_to_continent_code(country_code)\n",
    "        continent_name = pc.convert_continent_code_to_continent_name(continent_code)\n",
    "        return continent_name\n",
    "    except :\n",
    "        return np.nan"
   ]
  },
  {
   "cell_type": "code",
   "execution_count": 5,
   "metadata": {},
   "outputs": [],
   "source": [
    "df[\"continent\"]=df[\"location\"].apply(country_to_continent)"
   ]
  },
  {
   "cell_type": "code",
   "execution_count": 11,
   "metadata": {},
   "outputs": [],
   "source": [
    "multi = alt.selection_multi(fields=['location'])\n",
    "binding_select=alt.binding_select(options=df.continent.unique())\n",
    "selection = alt.selection_single(fields=[\"continent\"],bind=binding_select)\n",
    "color=alt.condition(multi,alt.Color(\"new_deaths:Q\",legend=None,aggregate=\"sum\"),alt.value(\"grey\"))\n",
    "\n",
    "matrix_selection=alt.Chart(df).mark_rect().encode(alt.Y(\"location\",title=\"\",sort=\"-color\"),\n",
    "                                                  color=color).add_selection(multi).transform_filter(selection).add_selection(selection).properties(width=50,title=\"Nombre de cas (selectionner un ou plusieurs pays (shift + click))\")\n",
    "\n",
    "matrix_text=alt.Chart(df).mark_text().encode(alt.Y(\"location\",title=\"\",sort=\"-text\"),text=\"sum(new_deaths)\").transform_filter(selection)\n",
    "matrix_selector=matrix_selection + matrix_text "
   ]
  },
  {
   "cell_type": "code",
   "execution_count": 16,
   "metadata": {},
   "outputs": [
    {
     "data": {
      "application/vnd.jupyter.widget-view+json": {
       "model_id": "0bcd335d37a0483d9beab2633ddee0b4",
       "version_major": 2,
       "version_minor": 0
      },
      "text/plain": [
       "interactive(children=(SelectionRangeSlider(description='Dates', index=(0, 246), layout=Layout(width='500px'), …"
      ]
     },
     "metadata": {},
     "output_type": "display_data"
    },
    {
     "data": {
      "text/plain": [
       "<function __main__.test(date)>"
      ]
     },
     "execution_count": 16,
     "metadata": {},
     "output_type": "execute_result"
    }
   ],
   "source": [
    "start_date = df.date.min()\n",
    "end_date = df.date.max()\n",
    "\n",
    "dates = pd.date_range(start_date, end_date, freq='D')\n",
    "\n",
    "options = [(date.strftime(' %d %b %Y '), date) for date in dates]\n",
    "index = (0, len(options)-1)\n",
    "\n",
    "selection_range_slider = widgets.SelectionRangeSlider(\n",
    "    options=options,\n",
    "    index=index,\n",
    "    description='Dates',\n",
    "    orientation='horizontal',\n",
    "    layout={'width': '500px'}\n",
    ")\n",
    "\n",
    "def test(date):\n",
    "    multi = alt.selection_multi(fields=['location'])\n",
    "    binding_select=alt.binding_select(options=df.continent.unique())\n",
    "    selection = alt.selection_single(fields=[\"continent\"],bind=binding_select)\n",
    "    color=alt.condition(multi,alt.Color(\"new_deaths:Q\",legend=None,aggregate=\"sum\"),alt.value(\"grey\"))\n",
    "    matrix_selection=alt.Chart(df.loc[df[\"date\"]>date[0]].loc[df[\"date\"]<date[1]]).mark_rect().encode(alt.Y(\"location\",title=\"\",sort=\"-color\"),\n",
    "                                                  color=color).add_selection(multi).transform_filter(selection).add_selection(selection).properties(width=50,title=\"Nombre de cas (selectionner un ou plusieurs pays (shift + click))\")\n",
    "    matrix_text=alt.Chart(df.loc[df[\"date\"]>date[0]].loc[df[\"date\"]<date[1]]).mark_text().encode(alt.Y(\"location\",title=\"\",sort=\"-text\"),text=\"sum(new_deaths)\").transform_filter(selection)\n",
    "    matrix_selector=matrix_selection + matrix_text \n",
    "    \n",
    "    base_courbe = alt.Chart(df.loc[df[\"date\"]>date[0]].loc[df[\"date\"]<date[1]]).mark_line().encode(alt.X(\"date:T\"),\n",
    "                      color=\"location\")\n",
    "    new_case_and_death = base_courbe.encode(alt.Y(\"new_deaths\")) | base_courbe.encode(alt.Y(\"new_cases\"))\n",
    "    total_new_case_and_death = base_courbe.encode(alt.Y(\"total_deaths\")) | base_courbe.encode(alt.Y(\"total_cases\"))\n",
    "    courbe = new_case_and_death & total_new_case_and_death\n",
    "    return  matrix_selector | courbe\n",
    "widgets.interact(test,date=selection_range_slider)"
   ]
  },
  {
   "cell_type": "code",
   "execution_count": null,
   "metadata": {},
   "outputs": [],
   "source": []
  },
  {
   "cell_type": "code",
   "execution_count": null,
   "metadata": {},
   "outputs": [],
   "source": []
  }
 ],
 "metadata": {
  "kernelspec": {
   "display_name": "Python 3",
   "language": "python",
   "name": "python3"
  },
  "language_info": {
   "codemirror_mode": {
    "name": "ipython",
    "version": 3
   },
   "file_extension": ".py",
   "mimetype": "text/x-python",
   "name": "python",
   "nbconvert_exporter": "python",
   "pygments_lexer": "ipython3",
   "version": "3.7.6"
  }
 },
 "nbformat": 4,
 "nbformat_minor": 4
}
